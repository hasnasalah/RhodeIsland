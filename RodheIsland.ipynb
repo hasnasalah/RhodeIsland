{
 "cells": [
  {
   "cell_type": "code",
   "execution_count": null,
   "metadata": {},
   "outputs": [],
   "source": [
    "#Hasna Ben Jillali\n",
    "##04/22/2024"
   ]
  },
  {
   "cell_type": "code",
   "execution_count": 3,
   "metadata": {},
   "outputs": [
    {
     "ename": "ModuleNotFoundError",
     "evalue": "No module named 'pandas'",
     "output_type": "error",
     "traceback": [
      "\u001b[1;31m---------------------------------------------------------------------------\u001b[0m",
      "\u001b[1;31mModuleNotFoundError\u001b[0m                       Traceback (most recent call last)",
      "Cell \u001b[1;32mIn[3], line 1\u001b[0m\n\u001b[1;32m----> 1\u001b[0m \u001b[38;5;28;01mimport\u001b[39;00m \u001b[38;5;21;01mpandas\u001b[39;00m \u001b[38;5;28;01mas\u001b[39;00m \u001b[38;5;21;01mpd\u001b[39;00m\n\u001b[0;32m      2\u001b[0m \u001b[38;5;28;01mimport\u001b[39;00m \u001b[38;5;21;01mmatplotlib\u001b[39;00m\u001b[38;5;21;01m.\u001b[39;00m\u001b[38;5;21;01mpyplot\u001b[39;00m \u001b[38;5;28;01mas\u001b[39;00m \u001b[38;5;21;01mplt\u001b[39;00m\n\u001b[0;32m      3\u001b[0m \u001b[38;5;66;03m#looding data from the file\u001b[39;00m\n",
      "\u001b[1;31mModuleNotFoundError\u001b[0m: No module named 'pandas'"
     ]
    }
   ],
   "source": [
    "import pandas as pd\n",
    "import matplotlib.pyplot as plt\n",
    "#looding data from the file\n",
    "dataSet = pd.read_csv('police.csv')\n",
    "dataSet.head()"
   ]
  },
  {
   "cell_type": "code",
   "execution_count": 2,
   "metadata": {},
   "outputs": [
    {
     "ename": "NameError",
     "evalue": "name 'pd' is not defined",
     "output_type": "error",
     "traceback": [
      "\u001b[1;31m---------------------------------------------------------------------------\u001b[0m",
      "\u001b[1;31mNameError\u001b[0m                                 Traceback (most recent call last)",
      "Cell \u001b[1;32mIn[2], line 2\u001b[0m\n\u001b[0;32m      1\u001b[0m \u001b[38;5;66;03m# Create a pivot table to count each outcome for each racial group\u001b[39;00m\n\u001b[1;32m----> 2\u001b[0m outcome_table \u001b[38;5;241m=\u001b[39m \u001b[43mpd\u001b[49m\u001b[38;5;241m.\u001b[39mpivot_table(dataSet, index\u001b[38;5;241m=\u001b[39m\u001b[38;5;124m'\u001b[39m\u001b[38;5;124mdriver_race\u001b[39m\u001b[38;5;124m'\u001b[39m, columns\u001b[38;5;241m=\u001b[39m\u001b[38;5;124m'\u001b[39m\u001b[38;5;124mstop_outcome\u001b[39m\u001b[38;5;124m'\u001b[39m)\n\u001b[0;32m      3\u001b[0m \u001b[38;5;66;03m# Display the outcome table\u001b[39;00m\n\u001b[0;32m      4\u001b[0m \u001b[38;5;28mprint\u001b[39m(outcome_table)\n",
      "\u001b[1;31mNameError\u001b[0m: name 'pd' is not defined"
     ]
    }
   ],
   "source": [
    "# Create a pivot table to count each outcome for each racial group\n",
    "outcome_table = pd.pivot_table(dataSet, index='driver_race', columns='stop_outcome')\n",
    "# Display the outcome table\n",
    "print(outcome_table)"
   ]
  },
  {
   "cell_type": "code",
   "execution_count": null,
   "metadata": {},
   "outputs": [],
   "source": [
    " # Count the frequency of traffic stops for each racial group\n",
    "stop_frequency = dataSet.groupby('driver_race').size()\n",
    "# Create a bar chart\n",
    "plt.figure(figsize=(10, 6))\n",
    "plt.bar(stop_frequency.index, stop_frequency.values)\n",
    "plt.title('Frequency of Traffic Stops by Racial Group')\n",
    "plt.xlabel('Racial Group')\n",
    "plt.ylabel('Frequency of Traffic Stops')\n",
    "plt.xticks(rotation=45) # Rotate x-axis labels for better readability\n",
    "plt.show()\n"
   ]
  },
  {
   "cell_type": "code",
   "execution_count": null,
   "metadata": {},
   "outputs": [],
   "source": [
    "import pandas as pd\n",
    "import matplotlib.pyplot as plt\n",
    "#looding data from the file\n",
    "dataSet = pd.read_csv('police.csv')\n",
    "dataSet.head()\n",
    "#get rid of the nan values\n",
    "getRidOfNaN = dataSet.dropna(subset=['driver_race', 'stop_outcome'])\n",
    "# Group the cleaned data by 'driver_race' and 'stop_outcome' and count the \n",
    "grouped = getRidOfNaN.groupby(['driver_race', 'stop_outcome']).size().unst\n",
    "# Plot the bar chart\n",
    "grouped.plot(kind='bar', stacked=True, figsize=(10, 6))\n",
    "plt.title('Distribution of Outcomes by Racial Group')\n",
    "plt.xlabel('Racial Group')\n",
    "plt.ylabel('Frequency of Outcomes')\n",
    "plt.legend(title='Outcome', bbox_to_anchor=(1.05, 1), loc='upper left')\n",
    "plt.xticks(rotation=45)\n",
    "plt.show()"
   ]
  },
  {
   "cell_type": "code",
   "execution_count": null,
   "metadata": {},
   "outputs": [],
   "source": [
    "#grouped data by race and outcome\n",
    "grouped = getRidOfNaN.groupby(['driver_race', 'stop_outcome']).size().unst\n",
    "# Calculate the total number of stops for each racial group\n",
    "total_stops_by_race = grouped.sum(axis=1)\n",
    "# Calculate the percentage of each outcome for each racial group based on \n",
    "outcome_percentages = grouped.div(total_stops_by_race, axis=0) * 100\n",
    "# Plot the bar chart\n",
    "outcome_percentages.plot(kind='bar', stacked=True, figsize=(10, 6))\n",
    "plt.title('Percentage Distribution of Outcomes by Racial Group')\n",
    "plt.xlabel('Racial Group')\n",
    "plt.ylabel('Percentage of Outcomes')\n",
    "plt.legend(title='Outcome', bbox_to_anchor=(1.05, 1), loc='upper left')\n",
    "plt.xticks(rotation=45)\n",
    "plt.tight_layout()\n",
    "plt.show()\n"
   ]
  }
 ],
 "metadata": {
  "kernelspec": {
   "display_name": "venv",
   "language": "python",
   "name": "python3"
  },
  "language_info": {
   "codemirror_mode": {
    "name": "ipython",
    "version": 3
   },
   "file_extension": ".py",
   "mimetype": "text/x-python",
   "name": "python",
   "nbconvert_exporter": "python",
   "pygments_lexer": "ipython3",
   "version": "3.12.4"
  }
 },
 "nbformat": 4,
 "nbformat_minor": 2
}
